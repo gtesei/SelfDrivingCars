{
 "cells": [
  {
   "cell_type": "markdown",
   "metadata": {},
   "source": [
    "# Classifier - Feature Engineering / Model Selection "
   ]
  },
  {
   "cell_type": "code",
   "execution_count": 1,
   "metadata": {
    "collapsed": true
   },
   "outputs": [],
   "source": [
    "import matplotlib.image as mpimg\n",
    "import matplotlib.pyplot as plt\n",
    "import numpy as np\n",
    "import cv2\n",
    "import glob\n",
    "import pickle\n",
    "from sklearn.svm import LinearSVC\n",
    "from sklearn.preprocessing import StandardScaler\n",
    "from skimage.feature import hog\n",
    "from sklearn.model_selection import train_test_split\n",
    "\n",
    "from skimage.feature import hog"
   ]
  },
  {
   "cell_type": "markdown",
   "metadata": {},
   "source": [
    "## Feature Engineering "
   ]
  },
  {
   "cell_type": "code",
   "execution_count": 2,
   "metadata": {
    "collapsed": true
   },
   "outputs": [],
   "source": [
    "# Define a function to return HOG features and visualization\n",
    "def get_hog_features(img, orient, pix_per_cell, cell_per_block, \n",
    "                        vis=False, feature_vec=True):\n",
    "    # Call with two outputs if vis==True\n",
    "    if vis == True:\n",
    "        features, hog_image = hog(img, orientations=orient, \n",
    "                                  pixels_per_cell=(pix_per_cell, pix_per_cell),\n",
    "                                  cells_per_block=(cell_per_block, cell_per_block), \n",
    "                                  transform_sqrt=True, \n",
    "                                  visualise=vis, feature_vector=feature_vec)\n",
    "        return features, hog_image\n",
    "    # Otherwise call with one output\n",
    "    else:      \n",
    "        features = hog(img, orientations=orient, \n",
    "                       pixels_per_cell=(pix_per_cell, pix_per_cell),\n",
    "                       cells_per_block=(cell_per_block, cell_per_block), \n",
    "                       transform_sqrt=True, \n",
    "                       visualise=vis, feature_vector=feature_vec)\n",
    "        return features\n",
    "\n",
    "# Define a function to compute binned color features  \n",
    "def bin_spatial(img, size=(32, 32)):\n",
    "    # Use cv2.resize().ravel() to create the feature vector\n",
    "    features = cv2.resize(img, size).ravel() \n",
    "    # Return the feature vector\n",
    "    return features\n",
    "\n",
    "# Define a function to compute color histogram features \n",
    "# NEED TO CHANGE bins_range if reading .png files with mpimg!\n",
    "def color_hist(img, nbins=32, bins_range=(0, 256)):\n",
    "    # Compute the histogram of the color channels separately\n",
    "    channel1_hist = np.histogram(img[:,:,0], bins=nbins, range=bins_range)\n",
    "    channel2_hist = np.histogram(img[:,:,1], bins=nbins, range=bins_range)\n",
    "    channel3_hist = np.histogram(img[:,:,2], bins=nbins, range=bins_range)\n",
    "    # Concatenate the histograms into a single feature vector\n",
    "    hist_features = np.concatenate((channel1_hist[0], channel2_hist[0], channel3_hist[0]))\n",
    "    # Return the individual histograms, bin_centers and feature vector\n",
    "    return hist_features\n",
    "\n",
    "# Define a function to extract features from a list of images\n",
    "# Have this function call bin_spatial() and color_hist()\n",
    "def extract_features(imgs, color_space='RGB', spatial_size=(32, 32),\n",
    "                        hist_bins=32, orient=9, \n",
    "                        pix_per_cell=8, cell_per_block=2, hog_channel=0,\n",
    "                        spatial_feat=True, hist_feat=True, hog_feat=True):\n",
    "    # Create a list to append feature vectors to\n",
    "    features = []\n",
    "    # Iterate through the list of images\n",
    "    for file in imgs:\n",
    "        file_features = []\n",
    "        # Read in each one by one\n",
    "        image = mpimg.imread(file)              # PNG: 0-1, JPG: 0-255\n",
    "        image = np.uint8(image * 255)           # Scale training images in PNG from 0-1 to 0-255     \n",
    "        \n",
    "        # apply color conversion if other than 'RGB'\n",
    "        if color_space != 'RGB':\n",
    "            if color_space == 'HSV':\n",
    "                feature_image = cv2.cvtColor(image, cv2.COLOR_RGB2HSV)\n",
    "            elif color_space == 'LUV':\n",
    "                feature_image = cv2.cvtColor(image, cv2.COLOR_RGB2LUV)\n",
    "            elif color_space == 'HLS':\n",
    "                feature_image = cv2.cvtColor(image, cv2.COLOR_RGB2HLS)\n",
    "            elif color_space == 'YUV':\n",
    "                feature_image = cv2.cvtColor(image, cv2.COLOR_RGB2YUV)\n",
    "            elif color_space == 'YCrCb':\n",
    "                feature_image = cv2.cvtColor(image, cv2.COLOR_RGB2YCrCb)\n",
    "        else: feature_image = np.copy(image)      \n",
    "\n",
    "        if spatial_feat == True:\n",
    "            spatial_features = bin_spatial(feature_image, size=spatial_size)\n",
    "            file_features.append(spatial_features)\n",
    "        if hist_feat == True:\n",
    "            # Apply color_hist()\n",
    "            hist_features = color_hist(feature_image, nbins=hist_bins)\n",
    "            file_features.append(hist_features)\n",
    "        if hog_feat == True:\n",
    "        # Call get_hog_features() with vis=False, feature_vec=True\n",
    "            if hog_channel == 'ALL':\n",
    "                hog_features = []\n",
    "                for channel in range(feature_image.shape[2]):\n",
    "                    hog_features.append(get_hog_features(feature_image[:,:,channel], \n",
    "                                        orient, pix_per_cell, cell_per_block, \n",
    "                                        vis=False, feature_vec=True))\n",
    "                hog_features = np.ravel(hog_features)        \n",
    "            else:\n",
    "                hog_features = get_hog_features(feature_image[:,:,hog_channel], orient, \n",
    "                            pix_per_cell, cell_per_block, vis=False, feature_vec=True)\n",
    "            # Append the new feature vector to the features list\n",
    "            file_features.append(hog_features)\n",
    "        features.append(np.concatenate(file_features))\n",
    "    # Return list of feature vectors\n",
    "    return features"
   ]
  },
  {
   "cell_type": "code",
   "execution_count": 3,
   "metadata": {
    "collapsed": true
   },
   "outputs": [],
   "source": [
    "cars = glob.iglob('vehicles/vehicles/**/*.png')\n",
    "notcars = glob.iglob('non-vehicles/non-vehicles/**/*.png')"
   ]
  },
  {
   "cell_type": "code",
   "execution_count": 4,
   "metadata": {},
   "outputs": [
    {
     "name": "stderr",
     "output_type": "stream",
     "text": [
      "C:\\Users\\gtesei\\AppData\\Local\\Continuum\\Miniconda3\\envs\\carnd-term1\\lib\\site-packages\\skimage\\feature\\_hog.py:119: skimage_deprecation: Default value of `block_norm`==`L1` is deprecated and will be changed to `L2-Hys` in v0.15\n",
      "  'be changed to `L2-Hys` in v0.15', skimage_deprecation)\n"
     ]
    }
   ],
   "source": [
    "color_space = 'YUV' # Can be RGB, HSV, LUV, HLS, YUV, YCrCb\n",
    "orient = 11  # HOG orientations\n",
    "pix_per_cell = 16 # HOG pixels per cell\n",
    "cell_per_block = 2 # HOG cells per block\n",
    "hog_channel = \"ALL\" # Can be 0, 1, 2, or \"ALL\"\n",
    "spatial_size = (16, 16) # Spatial binning dimensions\n",
    "hist_bins = 16    # Number of histogram bins\n",
    "spatial_feat = True # Spatial features on or off\n",
    "hist_feat = True # Histogram features on or off\n",
    "hog_feat = True # HOG features on or off\n",
    "\n",
    "car_features = extract_features(cars, color_space=color_space, \n",
    "                        spatial_size=spatial_size, hist_bins=hist_bins, \n",
    "                        orient=orient, pix_per_cell=pix_per_cell, \n",
    "                        cell_per_block=cell_per_block, \n",
    "                        hog_channel=hog_channel, spatial_feat=spatial_feat, \n",
    "                        hist_feat=hist_feat, hog_feat=hog_feat)\n",
    "\n",
    "notcar_features = extract_features(notcars, color_space=color_space, \n",
    "                        spatial_size=spatial_size, hist_bins=hist_bins, \n",
    "                        orient=orient, pix_per_cell=pix_per_cell, \n",
    "                        cell_per_block=cell_per_block, \n",
    "                        hog_channel=hog_channel, spatial_feat=spatial_feat, \n",
    "                        hist_feat=hist_feat, hog_feat=hog_feat)"
   ]
  },
  {
   "cell_type": "code",
   "execution_count": 5,
   "metadata": {
    "collapsed": true
   },
   "outputs": [],
   "source": [
    "# Create an array stack of feature vectors\n",
    "X = np.vstack((car_features, notcar_features)).astype(np.float64)                        \n",
    "\n",
    "# Define the labels vector\n",
    "y = np.hstack((np.ones(len(car_features)), np.zeros(len(notcar_features))))"
   ]
  },
  {
   "cell_type": "code",
   "execution_count": 6,
   "metadata": {},
   "outputs": [
    {
     "name": "stdout",
     "output_type": "stream",
     "text": [
      "*** car_features: 8792\n",
      "*** notcar_features: 8968\n",
      "*** X: (17760, 2004)\n",
      "*** y: (17760,)\n"
     ]
    }
   ],
   "source": [
    "\n",
    "print(\"*** car_features:\",len(car_features))\n",
    "print(\"*** notcar_features:\",len(notcar_features))\n",
    "\n",
    "print(\"*** X:\",X.shape)\n",
    "print(\"*** y:\",y.shape)\n"
   ]
  },
  {
   "cell_type": "markdown",
   "metadata": {},
   "source": [
    "**Dataset seems balanced**"
   ]
  },
  {
   "cell_type": "markdown",
   "metadata": {},
   "source": [
    "## Model Selection "
   ]
  },
  {
   "cell_type": "code",
   "execution_count": 7,
   "metadata": {
    "collapsed": true
   },
   "outputs": [],
   "source": [
    "X_scaler = StandardScaler().fit(X)\n",
    "# Apply the scaler to X\n",
    "scaled_X = X_scaler.transform(X)\n",
    "\n",
    "X_train, X_test, y_train, y_test = train_test_split(scaled_X, y, test_size=0.2,  stratify=y, random_state=1234)"
   ]
  },
  {
   "cell_type": "code",
   "execution_count": 8,
   "metadata": {},
   "outputs": [
    {
     "name": "stdout",
     "output_type": "stream",
     "text": [
      "Test Accuracy of classifier =  0.9907\n",
      "Predictions - first 15 labels:  [ 1.  0.  1.  0.  1.  0.  0.  0.  1.  0.  0.  0.  0.  0.  0.]\n",
      "Ground truth - first  15 labels:  [ 1.  0.  1.  0.  1.  0.  0.  0.  1.  0.  0.  0.  0.  0.  0.]\n"
     ]
    }
   ],
   "source": [
    "from sklearn.pipeline import Pipeline\n",
    "clf = LinearSVC(loss='hinge')\n",
    "\n",
    "clf.fit(X_train, y_train)\n",
    "print('Test Accuracy of classifier = ', round(clf.score(X_test, y_test), 4))\n",
    "\n",
    "print(\"Predictions - first 15 labels: \", clf.predict(X_test[0:15]))\n",
    "print(\"Ground truth - first  15 labels: \", y_test[0:15])"
   ]
  },
  {
   "cell_type": "markdown",
   "metadata": {},
   "source": [
    "### Grid "
   ]
  },
  {
   "cell_type": "code",
   "execution_count": 9,
   "metadata": {
    "collapsed": true
   },
   "outputs": [],
   "source": [
    "import sys\n",
    "import numpy as np\n",
    "import os\n",
    "import pandas as pd\n",
    "from sklearn import preprocessing\n",
    "\n",
    "\n",
    "from sklearn.ensemble import RandomForestClassifier\n",
    "from sklearn.naive_bayes import MultinomialNB\n",
    "from sklearn.svm import SVC\n",
    "from sklearn.linear_model import SGDClassifier\n",
    "\n",
    "from sklearn.metrics import accuracy_score\n",
    "\n",
    "import sklearn.linear_model as lm\n",
    "from sklearn.model_selection import GridSearchCV\n",
    "\n",
    "import matplotlib.pyplot as plt\n",
    "\n",
    "from sklearn.metrics import roc_auc_score, log_loss\n",
    "from numpy import linalg as LA\n",
    "from sklearn import neighbors\n",
    "\n",
    "\n",
    "# grid\n",
    "columns = ['Predictive_Model',\n",
    "               'Parameters',\n",
    "               'Accuracy_Mean',\n",
    "               'Accuracy_STD',\n",
    "               'Predict_Time']\n",
    "perf_panel = pd.DataFrame(data=np.zeros((1, len(columns))), columns=columns)\n",
    "\n",
    "# models\n",
    "models = ['LinearSVC','LogisticRegression','RandomForest','SVC','KNeighborsClassifier']\n",
    "parameters = {\n",
    "    'LinearSVC': {\"loss\": ['hinge','squared_hinge']},\n",
    "    'RandomForest': {\"n_estimators\": [100, 1000],\n",
    "                     \"max_depth\": [3, 1, None],\n",
    "                     \"criterion\": [\"gini\", \"entropy\"]},\n",
    "    'SVC': {'kernel': ['linear', 'rbf', 'poly'], 'C': [0.1, 1, 5, 10, 50]},\n",
    "    'LogisticRegression': {'C': [0.001, 0.01, 0.1, 1, 10, 100]},\n",
    "    'MultinomialNB': {'alpha': [0, 0.0005, 0.1, 0.2, 0.3, 0.4, 0.5, 0.8, 0.9, 1]},\n",
    "    'KNeighborsClassifier': {'n_neighbors': [5, 10, 20, 50], 'weights': ['uniform', 'distance']},\n",
    "    'MLPClassifier': {'hidden_layer_sizes': [(1000, 50),(2000,100),(3000,200),(3000,1000,100)]}\n",
    "}\n",
    "\n",
    "# options\n",
    "seeds = [100, 200, 300, 400, 500, 600, 700, 800, 900, 1000]"
   ]
  },
  {
   "cell_type": "code",
   "execution_count": 10,
   "metadata": {},
   "outputs": [
    {
     "name": "stdout",
     "output_type": "stream",
     "text": [
      "---> model: LinearSVC\n",
      "mean_test_score: 0.992286036036\n",
      "std_test_score: 0.000682677683163\n",
      "mean_score_time: 0.676751375198\n",
      "std_score_time: 0.18354603614\n",
      "\n",
      "---> model: LogisticRegression\n",
      "mean_test_score: 0.993918918919\n",
      "std_test_score: 0.000551686879005\n",
      "mean_score_time: 0.345002532005\n",
      "std_score_time: 0.245167709017\n",
      "\n",
      "---> model: RandomForest\n",
      "mean_test_score: 0.994707207207\n",
      "std_test_score: 0.00176266619848\n",
      "mean_score_time: 4.02918541431\n",
      "std_score_time: 0.770155361205\n",
      "\n",
      "---> model: SVC\n",
      "mean_test_score: 0.997691441441\n",
      "std_test_score: 0.000537127928726\n",
      "mean_score_time: 71.2303560972\n",
      "std_score_time: 0.795172666181\n",
      "\n",
      "---> model: KNeighborsClassifier\n",
      "mean_test_score: 0.995720720721\n",
      "std_test_score: 0.000827530318508\n",
      "mean_score_time: 749.925899804\n",
      "std_score_time: 2.97953834374\n",
      "\n"
     ]
    }
   ],
   "source": [
    "# proc\n",
    "for model in models:\n",
    "    if model == 'RandomForest':\n",
    "        clf = RandomForestClassifier(n_estimators = 1000)\n",
    "    elif model == 'SVC':\n",
    "        clf = SVC(kernel='linear',C=10)\n",
    "    elif model == 'LogisticRegression':\n",
    "        clf = lm.LogisticRegression(C=1e5)\n",
    "    elif model == 'MultinomialNB':\n",
    "        clf =  MultinomialNB(alpha=0.0005)\n",
    "    elif model == 'KNeighborsClassifier':\n",
    "        clf = neighbors.KNeighborsClassifier(10, weights='distance')\n",
    "    elif model == 'MLPClassifier':\n",
    "        clf = MLPClassifier(solver='lbfgs', alpha=1e-5, hidden_layer_sizes=(1000, 50))\n",
    "    elif model == 'LinearSVC':\n",
    "        clf = LinearSVC(loss='hinge')\n",
    "    else:\n",
    "        raise ValueError('unkwown model: ' + model)\n",
    "    print(\"---> model:\",model)\n",
    "    #\n",
    "    \n",
    "    grid_clf = GridSearchCV(estimator=clf, param_grid=parameters[model],\n",
    "                                cv=4, scoring='accuracy', n_jobs=10)\n",
    "    np.random.seed(1234)\n",
    "    perm = np.random.permutation(scaled_X.shape[0])\n",
    "    XX = scaled_X[perm]\n",
    "    YY = y[perm]\n",
    "    grid_clf.fit(XX, YY)\n",
    "    \n",
    "    # report \n",
    "    mean_test_score = grid_clf.cv_results_['mean_test_score'][grid_clf.best_index_]\n",
    "    std_test_score = grid_clf.cv_results_['std_test_score'][grid_clf.best_index_]\n",
    "\n",
    "    mean_score_time = grid_clf.cv_results_['mean_score_time'][grid_clf.best_index_]\n",
    "    std_score_time = grid_clf.cv_results_['std_score_time'][grid_clf.best_index_]\n",
    "    \n",
    "    best_params = str(grid_clf.best_params_)\n",
    "\n",
    "    print(\"mean_test_score:\",mean_test_score)\n",
    "    print(\"std_test_score:\",std_test_score)\n",
    "\n",
    "    print(\"mean_score_time:\",mean_score_time)\n",
    "    print(\"std_score_time:\",std_score_time)\n",
    "    sys.stdout.flush()\n",
    "    \n",
    "    # grid update \n",
    "    perf_panel = perf_panel.append(pd.DataFrame(np.array([[model, best_params,mean_test_score, std_test_score, mean_score_time]]), columns=columns))\n",
    "    perf_panel.to_csv('./perf_panel.csv')\n",
    "    print()"
   ]
  },
  {
   "cell_type": "markdown",
   "metadata": {
    "collapsed": true
   },
   "source": [
    "## Results "
   ]
  },
  {
   "cell_type": "code",
   "execution_count": 11,
   "metadata": {},
   "outputs": [
    {
     "data": {
      "text/html": [
       "<div>\n",
       "<style>\n",
       "    .dataframe thead tr:only-child th {\n",
       "        text-align: right;\n",
       "    }\n",
       "\n",
       "    .dataframe thead th {\n",
       "        text-align: left;\n",
       "    }\n",
       "\n",
       "    .dataframe tbody tr th {\n",
       "        vertical-align: top;\n",
       "    }\n",
       "</style>\n",
       "<table border=\"1\" class=\"dataframe\">\n",
       "  <thead>\n",
       "    <tr style=\"text-align: right;\">\n",
       "      <th></th>\n",
       "      <th>Predictive_Model</th>\n",
       "      <th>Parameters</th>\n",
       "      <th>Accuracy_Mean</th>\n",
       "      <th>Accuracy_STD</th>\n",
       "      <th>Predict_Time</th>\n",
       "    </tr>\n",
       "  </thead>\n",
       "  <tbody>\n",
       "    <tr>\n",
       "      <th>0</th>\n",
       "      <td>LinearSVC</td>\n",
       "      <td>{'loss': 'hinge'}</td>\n",
       "      <td>0.992286</td>\n",
       "      <td>0.000683</td>\n",
       "      <td>0.293750</td>\n",
       "    </tr>\n",
       "    <tr>\n",
       "      <th>1</th>\n",
       "      <td>LogisticRegression</td>\n",
       "      <td>{'C': 0.1}</td>\n",
       "      <td>0.993919</td>\n",
       "      <td>0.000552</td>\n",
       "      <td>0.316752</td>\n",
       "    </tr>\n",
       "    <tr>\n",
       "      <th>2</th>\n",
       "      <td>RandomForest</td>\n",
       "      <td>{'criterion': 'gini', 'max_depth': None, 'n_es...</td>\n",
       "      <td>0.994707</td>\n",
       "      <td>0.001784</td>\n",
       "      <td>4.457001</td>\n",
       "    </tr>\n",
       "    <tr>\n",
       "      <th>4</th>\n",
       "      <td>KNeighborsClassifier</td>\n",
       "      <td>{'weights': 'distance', 'n_neighbors': 5}</td>\n",
       "      <td>0.995721</td>\n",
       "      <td>0.000828</td>\n",
       "      <td>698.066331</td>\n",
       "    </tr>\n",
       "    <tr>\n",
       "      <th>3</th>\n",
       "      <td>SVC</td>\n",
       "      <td>{'kernel': 'rbf', 'C': 5}</td>\n",
       "      <td>0.997691</td>\n",
       "      <td>0.000537</td>\n",
       "      <td>67.464008</td>\n",
       "    </tr>\n",
       "  </tbody>\n",
       "</table>\n",
       "</div>"
      ],
      "text/plain": [
       "       Predictive_Model                                         Parameters  \\\n",
       "0             LinearSVC                                  {'loss': 'hinge'}   \n",
       "1    LogisticRegression                                         {'C': 0.1}   \n",
       "2          RandomForest  {'criterion': 'gini', 'max_depth': None, 'n_es...   \n",
       "4  KNeighborsClassifier          {'weights': 'distance', 'n_neighbors': 5}   \n",
       "3                   SVC                          {'kernel': 'rbf', 'C': 5}   \n",
       "\n",
       "   Accuracy_Mean  Accuracy_STD  Predict_Time  \n",
       "0       0.992286      0.000683      0.293750  \n",
       "1       0.993919      0.000552      0.316752  \n",
       "2       0.994707      0.001784      4.457001  \n",
       "4       0.995721      0.000828    698.066331  \n",
       "3       0.997691      0.000537     67.464008  "
      ]
     },
     "execution_count": 11,
     "metadata": {},
     "output_type": "execute_result"
    }
   ],
   "source": [
    "perf = pd.read_csv('./perf_panel.csv')\n",
    "perf = perf.sort_values(['Accuracy_Mean', 'Predict_Time'], ascending=[1, 0])\n",
    "perf"
   ]
  },
  {
   "cell_type": "markdown",
   "metadata": {
    "collapsed": true
   },
   "source": [
    "\n",
    "The most fast model in computing score on new images is LinearSVC and the difference in terms of acccuracy is negligible.  "
   ]
  },
  {
   "cell_type": "markdown",
   "metadata": {
    "collapsed": true
   },
   "source": [
    "Let's retrain this model on the whole dataset and let's serialize it. "
   ]
  },
  {
   "cell_type": "code",
   "execution_count": 12,
   "metadata": {},
   "outputs": [
    {
     "data": {
      "text/plain": [
       "['classifier.p']"
      ]
     },
     "execution_count": 12,
     "metadata": {},
     "output_type": "execute_result"
    }
   ],
   "source": [
    "# train \n",
    "clf = Pipeline([('scaling', StandardScaler()),\n",
    "                ('classification', LinearSVC(loss='hinge'))])\n",
    "clf.fit(X, y)\n",
    "\n",
    "# serialize\n",
    "from sklearn.externals import joblib\n",
    "config = dict(color_space=color_space, \n",
    "            spatial_size=spatial_size, hist_bins=hist_bins, \n",
    "            orient=orient, pix_per_cell=pix_per_cell, \n",
    "            cell_per_block=cell_per_block, \n",
    "            hog_channel=hog_channel, spatial_feat=spatial_feat, \n",
    "            hist_feat=hist_feat, hog_feat=hog_feat)\n",
    "joblib.dump({'model':clf, 'config':config}, 'classifier.p')"
   ]
  },
  {
   "cell_type": "code",
   "execution_count": null,
   "metadata": {
    "collapsed": true
   },
   "outputs": [],
   "source": []
  }
 ],
 "metadata": {
  "kernelspec": {
   "display_name": "Python 3",
   "language": "python",
   "name": "python3"
  },
  "language_info": {
   "codemirror_mode": {
    "name": "ipython",
    "version": 3
   },
   "file_extension": ".py",
   "mimetype": "text/x-python",
   "name": "python",
   "nbconvert_exporter": "python",
   "pygments_lexer": "ipython3",
   "version": "3.5.2"
  },
  "widgets": {
   "state": {},
   "version": "1.1.2"
  }
 },
 "nbformat": 4,
 "nbformat_minor": 2
}
